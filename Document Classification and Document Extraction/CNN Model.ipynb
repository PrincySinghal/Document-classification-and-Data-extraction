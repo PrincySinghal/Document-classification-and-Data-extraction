{
 "cells": [
  {
   "cell_type": "code",
   "execution_count": null,
   "id": "eb3673cc",
   "metadata": {
    "id": "0HO_gHXWNoPX"
   },
   "outputs": [],
   "source": [
    "cnn = models.Sequential([\n",
    "    layers.Conv2D(filters=32, kernel_size=(3, 3), activation='relu',  strides=(2, 2), padding=\"same\", input_shape=(224, 224, 3)),\n",
    "\n",
    "    layers.MaxPooling2D((2,2)),\n",
    "    layers.Dropout(0.10),\n",
    "    layers.Conv2D(64 ,(3, 3), activation='relu'),\n",
    "    layers.MaxPooling2D((2,2)),\n",
    "    layers.Dropout(0.10),\n",
    "    layers.Conv2D(128, (3, 3), activation='relu'),\n",
    "    layers.MaxPooling2D((2,2)),\n",
    "    layers.Dropout(0.10),\n",
    "    layers.Conv2D(256, (3, 3), activation='relu'),\n",
    "    layers.MaxPooling2D((2,2)),\n",
    "    layers.Conv2D(512, (3, 3), activation='relu'),\n",
    "    \n",
    "    layers.Flatten(),\n",
    "    layers.Dense(512,activation='relu'),\n",
    "    layers.Dropout(0.07),    \n",
    "    layers.Dense(256,activation='relu'),\n",
    "    layers.Dropout(0.07),\n",
    "    layers.Dense(128,activation='relu'),\n",
    "    layers.Dropout(0.07),\n",
    "    layers.Dense(64,activation='relu'),\n",
    "    layers.Dropout(0.07),\n",
    "    layers.Dense(5, activation='softmax')\n",
    "])"
   ]
  },
  {
   "cell_type": "code",
   "execution_count": null,
   "id": "4d0f6857",
   "metadata": {
    "colab": {
     "base_uri": "https://localhost:8080/"
    },
    "id": "9rNHhdqINrhZ",
    "outputId": "a006fad1-a5b0-4744-9399-ded80be3b0f7"
   },
   "outputs": [
    {
     "name": "stdout",
     "output_type": "stream",
     "text": [
      "Model: \"sequential_1\"\n",
      "_________________________________________________________________\n",
      " Layer (type)                Output Shape              Param #   \n",
      "=================================================================\n",
      " conv2d (Conv2D)             (None, 112, 112, 32)      896       \n",
      "                                                                 \n",
      " max_pooling2d (MaxPooling2D  (None, 56, 56, 32)       0         \n",
      " )                                                               \n",
      "                                                                 \n",
      " dropout (Dropout)           (None, 56, 56, 32)        0         \n",
      "                                                                 \n",
      " conv2d_1 (Conv2D)           (None, 54, 54, 64)        18496     \n",
      "                                                                 \n",
      " max_pooling2d_1 (MaxPooling  (None, 27, 27, 64)       0         \n",
      " 2D)                                                             \n",
      "                                                                 \n",
      " dropout_1 (Dropout)         (None, 27, 27, 64)        0         \n",
      "                                                                 \n",
      " conv2d_2 (Conv2D)           (None, 25, 25, 128)       73856     \n",
      "                                                                 \n",
      " max_pooling2d_2 (MaxPooling  (None, 12, 12, 128)      0         \n",
      " 2D)                                                             \n",
      "                                                                 \n",
      " dropout_2 (Dropout)         (None, 12, 12, 128)       0         \n",
      "                                                                 \n",
      " conv2d_3 (Conv2D)           (None, 10, 10, 256)       295168    \n",
      "                                                                 \n",
      " max_pooling2d_3 (MaxPooling  (None, 5, 5, 256)        0         \n",
      " 2D)                                                             \n",
      "                                                                 \n",
      " conv2d_4 (Conv2D)           (None, 3, 3, 512)         1180160   \n",
      "                                                                 \n",
      " flatten (Flatten)           (None, 4608)              0         \n",
      "                                                                 \n",
      " dense (Dense)               (None, 512)               2359808   \n",
      "                                                                 \n",
      " dropout_3 (Dropout)         (None, 512)               0         \n",
      "                                                                 \n",
      " dense_1 (Dense)             (None, 256)               131328    \n",
      "                                                                 \n",
      " dropout_4 (Dropout)         (None, 256)               0         \n",
      "                                                                 \n",
      " dense_2 (Dense)             (None, 128)               32896     \n",
      "                                                                 \n",
      " dropout_5 (Dropout)         (None, 128)               0         \n",
      "                                                                 \n",
      " dense_3 (Dense)             (None, 64)                8256      \n",
      "                                                                 \n",
      " dropout_6 (Dropout)         (None, 64)                0         \n",
      "                                                                 \n",
      " dense_4 (Dense)             (None, 5)                 325       \n",
      "                                                                 \n",
      "=================================================================\n",
      "Total params: 4,101,189\n",
      "Trainable params: 4,101,189\n",
      "Non-trainable params: 0\n",
      "_________________________________________________________________\n"
     ]
    }
   ],
   "source": [
    "cnn.summary()"
   ]
  },
  {
   "cell_type": "code",
   "execution_count": null,
   "id": "e4781847",
   "metadata": {
    "id": "Utgg18pBNuKu"
   },
   "outputs": [],
   "source": [
    "from tensorflow.keras.callbacks import EarlyStopping"
   ]
  },
  {
   "cell_type": "code",
   "execution_count": null,
   "id": "d0cba12f",
   "metadata": {
    "id": "GlRPbpa8NxQn"
   },
   "outputs": [],
   "source": [
    "early_stopping_callback = EarlyStopping(monitor = 'val_loss', patience = 5, mode = 'min', restore_best_weights = True)\n",
    "cnn.compile(optimizer='adam',\n",
    "             loss='categorical_crossentropy',\n",
    "             metrics=['accuracy'])\n"
   ]
  },
  {
   "cell_type": "code",
   "execution_count": null,
   "id": "0e086bff",
   "metadata": {
    "colab": {
     "base_uri": "https://localhost:8080/"
    },
    "id": "HOnM6eM5N1Ve",
    "outputId": "9895b2b1-03b8-4cdf-9539-705ac6763b8f"
   },
   "outputs": [
    {
     "name": "stdout",
     "output_type": "stream",
     "text": [
      "Epoch 1/40\n",
      "5/5 [==============================] - 6s 274ms/step - loss: 1.6125 - accuracy: 0.2595 - val_loss: 1.5659 - val_accuracy: 0.2830\n",
      "Epoch 2/40\n",
      "5/5 [==============================] - 0s 60ms/step - loss: 1.5059 - accuracy: 0.3165 - val_loss: 1.5141 - val_accuracy: 0.2830\n",
      "Epoch 3/40\n",
      "5/5 [==============================] - 0s 50ms/step - loss: 1.4743 - accuracy: 0.2848 - val_loss: 1.5344 - val_accuracy: 0.2830\n",
      "Epoch 4/40\n",
      "5/5 [==============================] - 0s 59ms/step - loss: 1.5180 - accuracy: 0.3418 - val_loss: 1.4910 - val_accuracy: 0.2830\n",
      "Epoch 5/40\n",
      "5/5 [==============================] - 0s 48ms/step - loss: 1.5012 - accuracy: 0.3481 - val_loss: 1.5716 - val_accuracy: 0.2642\n",
      "Epoch 6/40\n",
      "5/5 [==============================] - 0s 54ms/step - loss: 1.5181 - accuracy: 0.3418 - val_loss: 1.5086 - val_accuracy: 0.2830\n",
      "Epoch 7/40\n",
      "5/5 [==============================] - 0s 50ms/step - loss: 1.4975 - accuracy: 0.2532 - val_loss: 1.5218 - val_accuracy: 0.2830\n",
      "Epoch 8/40\n",
      "5/5 [==============================] - 0s 59ms/step - loss: 1.5085 - accuracy: 0.2975 - val_loss: 1.5460 - val_accuracy: 0.3019\n",
      "Epoch 9/40\n",
      "5/5 [==============================] - 0s 66ms/step - loss: 1.4611 - accuracy: 0.3354 - val_loss: 1.4527 - val_accuracy: 0.2830\n",
      "Epoch 10/40\n",
      "5/5 [==============================] - 0s 89ms/step - loss: 1.4412 - accuracy: 0.2848 - val_loss: 1.4990 - val_accuracy: 0.3019\n",
      "Epoch 11/40\n",
      "5/5 [==============================] - 0s 57ms/step - loss: 1.4304 - accuracy: 0.3038 - val_loss: 1.4810 - val_accuracy: 0.2642\n",
      "Epoch 12/40\n",
      "5/5 [==============================] - 0s 56ms/step - loss: 1.4142 - accuracy: 0.2911 - val_loss: 1.5227 - val_accuracy: 0.3019\n",
      "Epoch 13/40\n",
      "5/5 [==============================] - 0s 63ms/step - loss: 1.3678 - accuracy: 0.3608 - val_loss: 1.3830 - val_accuracy: 0.3019\n",
      "Epoch 14/40\n",
      "5/5 [==============================] - 0s 75ms/step - loss: 1.3376 - accuracy: 0.3861 - val_loss: 1.3362 - val_accuracy: 0.3585\n",
      "Epoch 15/40\n",
      "5/5 [==============================] - 0s 53ms/step - loss: 1.3415 - accuracy: 0.3671 - val_loss: 1.4265 - val_accuracy: 0.3396\n",
      "Epoch 16/40\n",
      "5/5 [==============================] - 0s 60ms/step - loss: 1.2805 - accuracy: 0.4241 - val_loss: 1.2740 - val_accuracy: 0.3396\n",
      "Epoch 17/40\n",
      "5/5 [==============================] - 0s 52ms/step - loss: 1.3676 - accuracy: 0.4051 - val_loss: 1.5345 - val_accuracy: 0.2830\n",
      "Epoch 18/40\n",
      "5/5 [==============================] - 0s 54ms/step - loss: 1.3073 - accuracy: 0.3924 - val_loss: 1.3663 - val_accuracy: 0.3208\n",
      "Epoch 19/40\n",
      "5/5 [==============================] - 0s 51ms/step - loss: 1.1961 - accuracy: 0.4051 - val_loss: 1.2735 - val_accuracy: 0.4151\n",
      "Epoch 20/40\n",
      "5/5 [==============================] - 0s 55ms/step - loss: 1.1914 - accuracy: 0.4557 - val_loss: 1.2608 - val_accuracy: 0.3962\n",
      "Epoch 21/40\n",
      "5/5 [==============================] - 0s 53ms/step - loss: 1.1527 - accuracy: 0.4430 - val_loss: 1.2272 - val_accuracy: 0.4151\n",
      "Epoch 22/40\n",
      "5/5 [==============================] - 0s 69ms/step - loss: 1.2486 - accuracy: 0.4177 - val_loss: 1.2244 - val_accuracy: 0.4151\n",
      "Epoch 23/40\n",
      "5/5 [==============================] - 0s 62ms/step - loss: 1.1410 - accuracy: 0.4241 - val_loss: 1.1279 - val_accuracy: 0.5849\n",
      "Epoch 24/40\n",
      "5/5 [==============================] - 0s 61ms/step - loss: 1.0505 - accuracy: 0.4620 - val_loss: 1.0781 - val_accuracy: 0.6226\n",
      "Epoch 25/40\n",
      "5/5 [==============================] - 0s 54ms/step - loss: 1.0035 - accuracy: 0.5063 - val_loss: 1.0275 - val_accuracy: 0.5472\n",
      "Epoch 26/40\n",
      "5/5 [==============================] - 0s 48ms/step - loss: 1.0369 - accuracy: 0.4937 - val_loss: 1.1053 - val_accuracy: 0.5660\n",
      "Epoch 27/40\n",
      "5/5 [==============================] - 0s 38ms/step - loss: 1.0778 - accuracy: 0.4304 - val_loss: 1.2590 - val_accuracy: 0.4906\n",
      "Epoch 28/40\n",
      "5/5 [==============================] - 0s 39ms/step - loss: 1.0583 - accuracy: 0.5063 - val_loss: 1.0465 - val_accuracy: 0.6226\n",
      "Epoch 29/40\n",
      "5/5 [==============================] - 0s 48ms/step - loss: 1.0322 - accuracy: 0.5443 - val_loss: 1.3980 - val_accuracy: 0.4528\n",
      "Epoch 30/40\n",
      "5/5 [==============================] - 0s 43ms/step - loss: 0.9813 - accuracy: 0.5633 - val_loss: 0.9805 - val_accuracy: 0.6226\n",
      "Epoch 31/40\n",
      "5/5 [==============================] - 0s 39ms/step - loss: 0.9552 - accuracy: 0.5696 - val_loss: 1.1458 - val_accuracy: 0.5472\n",
      "Epoch 32/40\n",
      "5/5 [==============================] - 0s 39ms/step - loss: 0.9267 - accuracy: 0.5696 - val_loss: 1.0945 - val_accuracy: 0.5660\n",
      "Epoch 33/40\n",
      "5/5 [==============================] - 0s 41ms/step - loss: 0.9277 - accuracy: 0.5759 - val_loss: 1.2140 - val_accuracy: 0.5472\n",
      "Epoch 34/40\n",
      "5/5 [==============================] - 0s 44ms/step - loss: 0.8747 - accuracy: 0.6329 - val_loss: 0.9770 - val_accuracy: 0.6604\n",
      "Epoch 35/40\n",
      "5/5 [==============================] - 0s 40ms/step - loss: 0.8348 - accuracy: 0.6139 - val_loss: 0.9801 - val_accuracy: 0.6604\n",
      "Epoch 36/40\n",
      "5/5 [==============================] - 0s 44ms/step - loss: 0.7864 - accuracy: 0.6392 - val_loss: 0.8647 - val_accuracy: 0.6792\n",
      "Epoch 37/40\n",
      "5/5 [==============================] - 0s 38ms/step - loss: 0.7611 - accuracy: 0.6772 - val_loss: 0.9819 - val_accuracy: 0.6604\n",
      "Epoch 38/40\n",
      "5/5 [==============================] - 0s 41ms/step - loss: 0.7043 - accuracy: 0.6962 - val_loss: 0.8141 - val_accuracy: 0.7736\n",
      "Epoch 39/40\n",
      "5/5 [==============================] - 0s 41ms/step - loss: 0.6068 - accuracy: 0.7089 - val_loss: 1.3309 - val_accuracy: 0.6792\n",
      "Epoch 40/40\n",
      "5/5 [==============================] - 0s 39ms/step - loss: 0.5731 - accuracy: 0.7342 - val_loss: 0.7499 - val_accuracy: 0.7736\n"
     ]
    }
   ],
   "source": [
    "history = cnn.fit(features_train,labels_train,epochs=40, batch_size = 32 ,shuffle = True,validation_split = 0.25,callbacks=[early_stopping_callback])"
   ]
  },
  {
   "cell_type": "code",
   "execution_count": null,
   "id": "28f92380",
   "metadata": {
    "colab": {
     "base_uri": "https://localhost:8080/"
    },
    "id": "PtiLXY_0N4di",
    "outputId": "4da4eba5-82f0-4741-9186-bd673d3df63d"
   },
   "outputs": [
    {
     "name": "stdout",
     "output_type": "stream",
     "text": [
      "1/1 [==============================] - 0s 111ms/step - loss: 0.8340 - accuracy: 0.6923\n"
     ]
    },
    {
     "data": {
      "text/plain": [
       "[0.8340326547622681, 0.692307710647583]"
      ]
     },
     "execution_count": 22,
     "metadata": {},
     "output_type": "execute_result"
    }
   ],
   "source": [
    "cnn.evaluate(features_test,labels_test)#bs=4"
   ]
  },
  {
   "cell_type": "code",
   "execution_count": null,
   "id": "8bb9111d",
   "metadata": {
    "id": "LVLeW-37OzV2"
   },
   "outputs": [],
   "source": [
    "from keras.models import load_model\n",
    "\n",
    "cnn.save('model61.h5')  # creates a HDF5 file 'my_model.h5'\n",
    "#del model  # deletes the existing model\n",
    "\n",
    "# returns a compiled model\n",
    "# identical to the previous one\n",
    "model = load_model('model61.h5')\n"
   ]
  },
  {
   "cell_type": "code",
   "execution_count": null,
   "id": "17850bc9",
   "metadata": {
    "colab": {
     "base_uri": "https://localhost:8080/"
    },
    "id": "or0BHO5rO3LL",
    "outputId": "da74611a-6c09-4b77-96de-70423c543451"
   },
   "outputs": [
    {
     "name": "stdout",
     "output_type": "stream",
     "text": [
      "1/1 [==============================] - 0s 169ms/step - loss: 0.8340 - accuracy: 0.6923\n"
     ]
    },
    {
     "data": {
      "text/plain": [
       "[0.8340326547622681, 0.692307710647583]"
      ]
     },
     "execution_count": 24,
     "metadata": {},
     "output_type": "execute_result"
    }
   ],
   "source": [
    "model.evaluate(features_test,labels_test)"
   ]
  },
  {
   "cell_type": "code",
   "execution_count": null,
   "id": "d586a179",
   "metadata": {
    "colab": {
     "base_uri": "https://localhost:8080/"
    },
    "id": "hGmazPMwO6W6",
    "outputId": "93098b3c-5fdd-4314-dec3-877cfad3f4fb"
   },
   "outputs": [
    {
     "name": "stdout",
     "output_type": "stream",
     "text": [
      "1/1 [==============================] - 0s 117ms/step\n"
     ]
    }
   ],
   "source": [
    "y_pred = cnn.predict(features_test)"
   ]
  },
  {
   "cell_type": "code",
   "execution_count": null,
   "id": "6dc583c4",
   "metadata": {
    "colab": {
     "base_uri": "https://localhost:8080/"
    },
    "id": "ydBPnm8HO8OA",
    "outputId": "33d5868c-b59c-427a-8ee0-f5c0dac28c92"
   },
   "outputs": [
    {
     "data": {
      "text/plain": [
       "[4, 2, 4, 2, 0]"
      ]
     },
     "execution_count": 26,
     "metadata": {},
     "output_type": "execute_result"
    }
   ],
   "source": [
    "y_classes = [np.argmax(element) for element in y_pred]\n",
    "y_classes[:5]"
   ]
  },
  {
   "cell_type": "code",
   "execution_count": null,
   "id": "6a39d1ac",
   "metadata": {
    "id": "tOjhnJDGO--x"
   },
   "outputs": [],
   "source": [
    "labels_test[:5]\n",
    "y_classes = [np.argmax(element) for element in labels_test]"
   ]
  },
  {
   "cell_type": "code",
   "execution_count": null,
   "id": "9a172a43",
   "metadata": {
    "colab": {
     "base_uri": "https://localhost:8080/"
    },
    "id": "5-DC1-_fPA3i",
    "outputId": "e4363a09-18c5-4a27-9aca-79b055259c90"
   },
   "outputs": [
    {
     "data": {
      "text/plain": [
       "[2, 2, 4]"
      ]
     },
     "execution_count": 28,
     "metadata": {},
     "output_type": "execute_result"
    }
   ],
   "source": [
    "y_classes[:3]"
   ]
  },
  {
   "cell_type": "code",
   "execution_count": null,
   "id": "96e42051",
   "metadata": {
    "colab": {
     "base_uri": "https://localhost:8080/",
     "height": 295
    },
    "id": "hl4vcgjJPCuK",
    "outputId": "9804323c-b021-40b0-8935-dcecaad4ac8c"
   },
   "outputs": [
    {
     "data": {
      "image/png": "[encoded data removed]",
      "text/plain": [
       "<Figure size 432x288 with 1 Axes>"
      ]
     },
     "metadata": {
      "needs_background": "light"
     },
     "output_type": "display_data"
    }
   ],
   "source": [
    "import matplotlib.pyplot as plt\n",
    "from matplotlib.pyplot import figure\n",
    "plt.plot(history.history['accuracy'])\n",
    "plt.plot(history.history['val_accuracy'])\n",
    "plt.title('Model Accuracy')\n",
    "plt.ylabel('Accuracy')\n",
    "plt.xlabel('Epoch')\n",
    "plt.legend(['train', 'val'], loc='upper left')\n",
    "plt.show()"
   ]
  },
  {
   "cell_type": "code",
   "execution_count": null,
   "id": "ce8d2388",
   "metadata": {
    "colab": {
     "base_uri": "https://localhost:8080/",
     "height": 295
    },
    "id": "i9Z9jayf8QBt",
    "outputId": "90577a84-190b-41f1-f35f-4f311bce4e43"
   },
   "outputs": [
    {
     "data": {
      "image/png": "[encoded data removed]",
      "text/plain": [
       "<Figure size 432x288 with 1 Axes>"
      ]
     },
     "metadata": {
      "needs_background": "light"
     },
     "output_type": "display_data"
    }
   ],
   "source": [
    "plt.plot(history.history['loss'])\n",
    "plt.plot(history.history['val_loss'])\n",
    "plt.title('Model Loss')\n",
    "plt.ylabel('Loss')\n",
    "plt.xlabel('Epoch')\n",
    "plt.legend(['train', 'val'], loc='upper left')\n",
    "plt.show()"
   ]
  },
  {
   "cell_type": "code",
   "execution_count": null,
   "id": "d3506d03",
   "metadata": {},
   "outputs": [],
   "source": []
  }
 ],
 "metadata": {
  "kernelspec": {
   "display_name": "Python 3 (ipykernel)",
   "language": "python",
   "name": "python3"
  },
  "language_info": {
   "codemirror_mode": {
    "name": "ipython",
    "version": 3
   },
   "file_extension": ".py",
   "mimetype": "text/x-python",
   "name": "python",
   "nbconvert_exporter": "python",
   "pygments_lexer": "ipython3",
   "version": "3.9.12"
  }
 },
 "nbformat": 4,
 "nbformat_minor": 5
}
