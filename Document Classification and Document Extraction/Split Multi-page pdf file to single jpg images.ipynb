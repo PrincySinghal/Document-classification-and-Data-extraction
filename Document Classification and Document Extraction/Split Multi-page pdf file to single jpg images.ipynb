{
 "cells": [
  {
   "cell_type": "markdown",
   "id": "48127669",
   "metadata": {},
   "source": [
    "# Split Multi-page pdf file to single jpg images"
   ]
  },
  {
   "cell_type": "code",
   "execution_count": null,
   "id": "79de9a26",
   "metadata": {},
   "outputs": [],
   "source": [
    "# Splitting an input document into individual pages (assuming each page has one type of document)\n",
    "!pip install pdf2image\n",
    "!apt install poppler-utils &> /dev/null\n",
    "!pip install pdf2image tqdm &> /dev/null\n",
    "\n",
    "poppler_path = r'C:\\path\\to\\poppler-xx\\bin'   #allows to read, render, or modify PDF documents\n",
    "\n",
    "from pdf2image import convert_from_path \n",
    "\n",
    "pdf_name = 'file1.pdf'\n",
    "pdf_name_split = pdf_name[:-4]\n",
    "\n",
    "# Store Pdf with convert_from_path function\n",
    "images = convert_from_path(pdf_name)  #'file1.pdf'\n",
    "\n",
    "for i in range(len(images)):\n",
    "   \n",
    "    # Save pages as images in the pdf\n",
    "    images[i].save(pdf_name_split + '_page_'+ str(i+1) + '.jpg', 'JPEG')\n",
    "    print(\"saved page\", str(i+1))\n",
    "\n",
    "print(\"Loading files...\")"
   ]
  }
 ],
 "metadata": {
  "kernelspec": {
   "display_name": "Python 3 (ipykernel)",
   "language": "python",
   "name": "python3"
  },
  "language_info": {
   "codemirror_mode": {
    "name": "ipython",
    "version": 3
   },
   "file_extension": ".py",
   "mimetype": "text/x-python",
   "name": "python",
   "nbconvert_exporter": "python",
   "pygments_lexer": "ipython3",
   "version": "3.9.12"
  }
 },
 "nbformat": 4,
 "nbformat_minor": 5
}
